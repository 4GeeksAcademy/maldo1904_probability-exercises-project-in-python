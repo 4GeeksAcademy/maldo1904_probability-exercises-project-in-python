{
 "cells": [
  {
   "cell_type": "markdown",
   "id": "a41f3622",
   "metadata": {},
   "source": [
    "# Ejercicios de probabilidad"
   ]
  },
  {
   "cell_type": "markdown",
   "id": "a6bdbd89",
   "metadata": {},
   "source": [
    "## Ejercicio 1 \n",
    "\n",
    "Dos dados se lanzan una vez y se observa el total obtenido. Usa una simulación para encontrar la probabilidad estimada de que la puntuación sea mayor a 7 o un número par. Una simulación es una repetición del mismo experimento multiples veces para observar su comportamiento:\n",
    "\n",
    "- Ejecuta el experimento 1000 veces (lanza 2 dados 1000 veces, y suma el número de ambos dados).\n",
    "- Lleva ua cuenta de los números y las veces que la suma fue mayor a 7 o un número par.\n",
    "- Divide el número del paso 2 entre el número de iteraciones(1000)."
   ]
  },
  {
   "cell_type": "code",
   "execution_count": 23,
   "id": "8939d892",
   "metadata": {},
   "outputs": [
    {
     "name": "stdout",
     "output_type": "stream",
     "text": [
      "Número de veces mayor que 7: 437\n",
      "Número de veces par: 498\n",
      "Número de veces que la suma fue mayor que 7 o par: 666\n",
      "Probabilidad teorica de que sea mayor que 7: 0.4166666666666667\n",
      "Probabilidad teorica de que sea par: 0.5\n",
      "Probabilidad empiríca de que sea mayor que 7: 0.437\n",
      "Probabilidad empiríca de que sea par: 0.498\n"
     ]
    }
   ],
   "source": [
    "# TODO\n",
    "import numpy as np\n",
    "def lanzamiento_dado():\n",
    "        return np.random.randint(1,7)\n",
    "\n",
    "cuenta_mayor_7=0\n",
    "cuenta_par=0\n",
    "cuenta_mayor_7_o_par=0\n",
    "\n",
    "for lanzamiento in range(1000):\n",
    "    suma = lanzamiento_dado()+lanzamiento_dado()\n",
    "    if suma > 7:\n",
    "        cuenta_mayor_7+=1\n",
    "    if suma%2==0:\n",
    "         cuenta_par+=1\n",
    "    if suma > 7 or (suma%2==0):\n",
    "        cuenta_mayor_7_o_par+=1\n",
    "\n",
    "print(f\"Número de veces mayor que 7: {cuenta_mayor_7}\")\n",
    "print(f\"Número de veces par: {cuenta_par}\")\n",
    "print(f\"Número de veces que la suma fue mayor que 7 o par: {cuenta_mayor_7_o_par}\")\n",
    "          \n",
    "\n",
    "probabilidad_teorica_mayor_a_7=15/36\n",
    "probabilidad_teorica_par=18/36\n",
    "print(f\"Probabilidad teorica de que sea mayor que 7: {probabilidad_teorica_mayor_a_7}\")\n",
    "print(f\"Probabilidad teorica de que sea par: {probabilidad_teorica_par}\")\n",
    "print(f\"Probabilidad empiríca de que sea mayor que 7: {cuenta_mayor_7/1000}\")\n",
    "print(f\"Probabilidad empiríca de que sea par: {cuenta_par/1000}\")\n",
    "\n",
    "\n",
    "\n",
    "\n"
   ]
  },
  {
   "cell_type": "markdown",
   "id": "55732bca",
   "metadata": {},
   "source": [
    "## Ejercicio 2\n",
    "\n",
    "Una caja contiene 10 bolas blancas, 20 bolas rojas y 30 bolas verdes. Si tomamos 5 bolas de la caja reemplazándolas (tomando una bola, anotando el color y luego regresandola a la caja). Queremos saber la probabilidad de:\n",
    "\n",
    "1. Tomar 3 blancas y 2 rojas.\n",
    "2. Toas todas del mismo color.\n",
    "\n",
    "Ejecuta el experimento 1000 veces y calcula las probabilidades que mencionadas."
   ]
  },
  {
   "cell_type": "code",
   "execution_count": 46,
   "id": "23244d20",
   "metadata": {},
   "outputs": [
    {
     "name": "stdout",
     "output_type": "stream",
     "text": [
      "{0: 'White', 1: 'White', 2: 'White', 3: 'White', 4: 'White', 5: 'White', 6: 'White', 7: 'White', 8: 'White', 9: 'White', 10: 'Red', 11: 'Red', 12: 'Red', 13: 'Red', 14: 'Red', 15: 'Red', 16: 'Red', 17: 'Red', 18: 'Red', 19: 'Red', 20: 'Red', 21: 'Red', 22: 'Red', 23: 'Red', 24: 'Red', 25: 'Red', 26: 'Red', 27: 'Red', 28: 'Red', 29: 'Red', 30: 'Green', 31: 'Green', 32: 'Green', 33: 'Green', 34: 'Green', 35: 'Green', 36: 'Green', 37: 'Green', 38: 'Green', 39: 'Green', 40: 'Green', 41: 'Green', 42: 'Green', 43: 'Green', 44: 'Green', 45: 'Green', 46: 'Green', 47: 'Green', 48: 'Green', 49: 'Green', 50: 'Green', 51: 'Green', 52: 'Green', 53: 'Green', 54: 'Green', 55: 'Green', 56: 'Green', 57: 'Green', 58: 'Green', 59: 'Green'}\n",
      "['Red', 'Green', 'White', 'Red', 'Red']\n",
      "3\n",
      "3 blancas y 2 rojas: 4\n",
      "Todas iguales: 34\n",
      "Probabilidad 3 rojas y dos blancas: 0.4%\n",
      "Probabilidad todas iguales: 3.4000000000000004%\n"
     ]
    }
   ],
   "source": [
    "ball_box = {}\n",
    "\n",
    "# Crea la cajas con las bolas\n",
    "for i in range(60):\n",
    "    if i < 10:\n",
    "        ball_box[i] = \"White\"\n",
    "    elif (i > 9) and (i < 30):\n",
    "        ball_box[i] = \"Red\"\n",
    "    else:\n",
    "        ball_box[i] = \"Green\"\n",
    "\n",
    "print(ball_box)\n",
    "            \n",
    "# TODO\n",
    "def sacar_bola():\n",
    "    numero=np.random.randint(0,60)\n",
    "    return ball_box[numero]\n",
    "\n",
    "\n",
    "def sacar_5_bolas():\n",
    "    lista_bolas=[]\n",
    "    for i in range(5):\n",
    "        bola=sacar_bola()\n",
    "        lista_bolas.append(bola)\n",
    "    return lista_bolas\n",
    "\n",
    "lista=sacar_5_bolas()\n",
    "\n",
    "print(lista)\n",
    "print(lista.count('Red')) \n",
    "\n",
    "contador_3blancas_2rojas=0\n",
    "contador_todas_mismo_color=0\n",
    "for i in range(1000):\n",
    "    lista=sacar_5_bolas()\n",
    "    if lista.count('White') ==3 and (lista.count('Red') == 2):\n",
    "        contador_3blancas_2rojas+=1\n",
    "    if lista.count('White') ==5 or (lista.count('Red') ==5) or (lista.count('Green') ==5):\n",
    "        contador_todas_mismo_color+=1\n",
    "\n",
    "print(f'3 blancas y 2 rojas: {contador_3blancas_2rojas}')\n",
    "print(f'Todas iguales: {contador_todas_mismo_color}')\n",
    "\n",
    "print(f'Probabilidad 3 rojas y dos blancas: {(contador_3blancas_2rojas/1000)*100}%')\n",
    "print(f'Probabilidad todas iguales: {(contador_todas_mismo_color/1000)*100}%')\n",
    "\n"
   ]
  }
 ],
 "metadata": {
  "kernelspec": {
   "display_name": "Python 3",
   "language": "python",
   "name": "python3"
  },
  "language_info": {
   "codemirror_mode": {
    "name": "ipython",
    "version": 3
   },
   "file_extension": ".py",
   "mimetype": "text/x-python",
   "name": "python",
   "nbconvert_exporter": "python",
   "pygments_lexer": "ipython3",
   "version": "3.11.4"
  }
 },
 "nbformat": 4,
 "nbformat_minor": 5
}
